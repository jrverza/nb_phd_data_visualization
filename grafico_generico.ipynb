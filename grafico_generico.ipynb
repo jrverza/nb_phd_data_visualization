{
 "cells": [
  {
   "cell_type": "code",
   "execution_count": 4,
   "id": "d9fef9a9",
   "metadata": {},
   "outputs": [],
   "source": [
    "#importando as bibliotecas\n",
    "import pandas as pd\n",
    "import matplotlib.pyplot as plt\n",
    "import numpy as np\n",
    "import seaborn as sns\n",
    "%matplotlib inline \n",
    "#comando para plottar grafico no própro jupyter, sem abrir outra guia"
   ]
  },
  {
   "cell_type": "code",
   "execution_count": 5,
   "id": "21114875",
   "metadata": {},
   "outputs": [],
   "source": [
    "df = pd.read_csv('data_for_exercises/generic_single_plot.csv')"
   ]
  },
  {
   "cell_type": "code",
   "execution_count": 47,
   "id": "3da3b95d",
   "metadata": {},
   "outputs": [
    {
     "data": {
      "text/html": [
       "<div>\n",
       "<style scoped>\n",
       "    .dataframe tbody tr th:only-of-type {\n",
       "        vertical-align: middle;\n",
       "    }\n",
       "\n",
       "    .dataframe tbody tr th {\n",
       "        vertical-align: top;\n",
       "    }\n",
       "\n",
       "    .dataframe thead th {\n",
       "        text-align: right;\n",
       "    }\n",
       "</style>\n",
       "<table border=\"1\" class=\"dataframe\">\n",
       "  <thead>\n",
       "    <tr style=\"text-align: right;\">\n",
       "      <th></th>\n",
       "      <th>x</th>\n",
       "      <th>y</th>\n",
       "      <th>x2</th>\n",
       "      <th>y2</th>\n",
       "      <th>x3</th>\n",
       "      <th>y3</th>\n",
       "      <th>x4</th>\n",
       "      <th>y4</th>\n",
       "      <th>x5</th>\n",
       "      <th>y5</th>\n",
       "      <th>x6</th>\n",
       "      <th>y6</th>\n",
       "    </tr>\n",
       "  </thead>\n",
       "  <tbody>\n",
       "    <tr>\n",
       "      <th>0</th>\n",
       "      <td>3.6</td>\n",
       "      <td>15.09</td>\n",
       "      <td>35.7</td>\n",
       "      <td>6.83</td>\n",
       "      <td>214.3</td>\n",
       "      <td>8.41</td>\n",
       "      <td>NaN</td>\n",
       "      <td>NaN</td>\n",
       "      <td>NaN</td>\n",
       "      <td>NaN</td>\n",
       "      <td>NaN</td>\n",
       "      <td>NaN</td>\n",
       "    </tr>\n",
       "    <tr>\n",
       "      <th>1</th>\n",
       "      <td>7.1</td>\n",
       "      <td>7.63</td>\n",
       "      <td>71.4</td>\n",
       "      <td>3.49</td>\n",
       "      <td>428.6</td>\n",
       "      <td>4.21</td>\n",
       "      <td>NaN</td>\n",
       "      <td>NaN</td>\n",
       "      <td>NaN</td>\n",
       "      <td>NaN</td>\n",
       "      <td>NaN</td>\n",
       "      <td>NaN</td>\n",
       "    </tr>\n",
       "    <tr>\n",
       "      <th>2</th>\n",
       "      <td>10.7</td>\n",
       "      <td>5.11</td>\n",
       "      <td>107.1</td>\n",
       "      <td>2.35</td>\n",
       "      <td>642.9</td>\n",
       "      <td>2.81</td>\n",
       "      <td>NaN</td>\n",
       "      <td>NaN</td>\n",
       "      <td>NaN</td>\n",
       "      <td>NaN</td>\n",
       "      <td>NaN</td>\n",
       "      <td>NaN</td>\n",
       "    </tr>\n",
       "    <tr>\n",
       "      <th>3</th>\n",
       "      <td>14.3</td>\n",
       "      <td>3.84</td>\n",
       "      <td>142.9</td>\n",
       "      <td>1.78</td>\n",
       "      <td>857.1</td>\n",
       "      <td>2.11</td>\n",
       "      <td>NaN</td>\n",
       "      <td>NaN</td>\n",
       "      <td>NaN</td>\n",
       "      <td>NaN</td>\n",
       "      <td>NaN</td>\n",
       "      <td>NaN</td>\n",
       "    </tr>\n",
       "    <tr>\n",
       "      <th>4</th>\n",
       "      <td>17.9</td>\n",
       "      <td>3.08</td>\n",
       "      <td>178.6</td>\n",
       "      <td>1.43</td>\n",
       "      <td>1071.4</td>\n",
       "      <td>1.69</td>\n",
       "      <td>NaN</td>\n",
       "      <td>NaN</td>\n",
       "      <td>NaN</td>\n",
       "      <td>NaN</td>\n",
       "      <td>NaN</td>\n",
       "      <td>NaN</td>\n",
       "    </tr>\n",
       "  </tbody>\n",
       "</table>\n",
       "</div>"
      ],
      "text/plain": [
       "      x      y     x2    y2      x3    y3  x4  y4  x5  y5  x6  y6\n",
       "0   3.6  15.09   35.7  6.83   214.3  8.41 NaN NaN NaN NaN NaN NaN\n",
       "1   7.1   7.63   71.4  3.49   428.6  4.21 NaN NaN NaN NaN NaN NaN\n",
       "2  10.7   5.11  107.1  2.35   642.9  2.81 NaN NaN NaN NaN NaN NaN\n",
       "3  14.3   3.84  142.9  1.78   857.1  2.11 NaN NaN NaN NaN NaN NaN\n",
       "4  17.9   3.08  178.6  1.43  1071.4  1.69 NaN NaN NaN NaN NaN NaN"
      ]
     },
     "execution_count": 47,
     "metadata": {},
     "output_type": "execute_result"
    }
   ],
   "source": [
    "df.head() #comando para ver as 5 primeiras linhas do df\n"
   ]
  },
  {
   "cell_type": "code",
   "execution_count": 10,
   "id": "f2f5b690",
   "metadata": {},
   "outputs": [],
   "source": [
    "#tirando valores missing do conjunto de dados (raramente vai ser utilizado em um DRX)\n",
    "x = df['x'].dropna()\n",
    "y = df['y'].dropna()\n",
    "\n",
    "x2 = df['x2'].dropna()\n",
    "y2 = df['y2'].dropna()\n",
    "\n",
    "x3 = df['x3'].dropna()\n",
    "y3 = df['y3'].dropna()"
   ]
  },
  {
   "cell_type": "code",
   "execution_count": 42,
   "id": "4d9c4f0f",
   "metadata": {},
   "outputs": [
    {
     "data": {
      "image/png": "[encoded data removed]",
      "text/plain": [
       "<Figure size 360x360 with 1 Axes>"
      ]
     },
     "metadata": {
      "needs_background": "light"
     },
     "output_type": "display_data"
    }
   ],
   "source": [
    "#Defininfo o tamanho da figura \n",
    "fig = plt.figure(1, figsize=(5,5))\n",
    "plt.semilogx(x,y, linestyle='-', marker='o', label='aluminum', mfc='w', markersize=8)\n",
    "plt.semilogx(x2,y2, linestyle='-', marker='s', label='iron oxide', mfc='w', markersize=8)\n",
    "plt.semilogx(x3,y3, linestyle='-', marker='^', label='ammonium perchlorate', mfc='w', markersize=8)\n",
    "\n",
    "#parametros da plotagem\n",
    "plt.xlim([1,1e4]) #até onde o eixod x vai\n",
    "plt.ylim([-0.5,16]) #até onde eixo y vai\n",
    "plt.minorticks_on() \n",
    "plt.tick_params(direction='in',right=True, top=True) #ticks em todos os lados e para dentro\n",
    "plt.tick_params(labelsize=14) #tamanho da legenda\n",
    "plt.tick_params(labelbottom=True, labeltop=False, labelright=False, labelleft=True) #escala dos eixos\n",
    "yticks = np.arange(0,16.1,4) #muda os step das escalas\n",
    "\n",
    "plt.tick_params(direction='in',which='minor', length=5, bottom=True, top=True, left=True, right=True)\n",
    "plt.tick_params(direction='in',which='major', length=10, bottom=True, top=True, left=True, right=True)\n",
    "plt.yticks(yticks)\n",
    "\n",
    "#nomes dos eixos\n",
    "plt.xlabel('Particle raddi ($\\mu m$)', fontsize=14)\n",
    "plt.ylabel('Percent contribution', fontsize=14)\n",
    "\n",
    "#legenda\n",
    "plt.legend(fontsize=14)\n",
    "\n",
    "#salvando em boa qualidade\n",
    "plt.savefig('data_for_exercises/plotting/generic_plot.png', dpi=300,bbox_inches=\"tight\")"
   ]
  },
  {
   "cell_type": "code",
   "execution_count": null,
   "id": "48d84510",
   "metadata": {},
   "outputs": [],
   "source": []
  }
 ],
 "metadata": {
  "kernelspec": {
   "display_name": "Python 3",
   "language": "python",
   "name": "python3"
  },
  "language_info": {
   "codemirror_mode": {
    "name": "ipython",
    "version": 3
   },
   "file_extension": ".py",
   "mimetype": "text/x-python",
   "name": "python",
   "nbconvert_exporter": "python",
   "pygments_lexer": "ipython3",
   "version": "3.8.8"
  }
 },
 "nbformat": 4,
 "nbformat_minor": 5
}
